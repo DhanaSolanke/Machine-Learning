{
 "cells": [
  {
   "cell_type": "markdown",
   "metadata": {},
   "source": [
    "## Load MNIST on Python 3.x"
   ]
  },
  {
   "cell_type": "code",
   "execution_count": 253,
   "metadata": {},
   "outputs": [],
   "source": [
    "import pickle\n",
    "import gzip"
   ]
  },
  {
   "cell_type": "code",
   "execution_count": 254,
   "metadata": {},
   "outputs": [],
   "source": [
    "filename = 'mnist.pkl.gz'\n",
    "f = gzip.open(filename, 'rb')\n",
    "training_data, validation_data, test_data = pickle.load(f, encoding='latin1')\n",
    "f.close()"
   ]
  },
  {
   "cell_type": "markdown",
   "metadata": {},
   "source": [
    "## Load USPS on Python 3.x"
   ]
  },
  {
   "cell_type": "code",
   "execution_count": 255,
   "metadata": {},
   "outputs": [],
   "source": [
    "from PIL import Image\n",
    "import os\n",
    "import numpy as np\n",
    "from tqdm import tqdm_notebook\n",
    "from matplotlib import pyplot as plt"
   ]
  },
  {
   "cell_type": "code",
   "execution_count": 256,
   "metadata": {},
   "outputs": [],
   "source": [
    "USPSMat  = []\n",
    "USPSTar  = []\n",
    "curPath  = 'USPSdata/Numerals'\n",
    "savedImg = []\n",
    "\n",
    "for j in range(0,10):\n",
    "    curFolderPath = curPath + '/' + str(j)\n",
    "    imgs =  os.listdir(curFolderPath)\n",
    "    for img in imgs:\n",
    "        curImg = curFolderPath + '/' + img\n",
    "        if curImg[-3:] == 'png':\n",
    "            img = Image.open(curImg,'r')\n",
    "            img = img.resize((28, 28))\n",
    "            savedImg = img\n",
    "            imgdata = (255-np.array(img.getdata()))/255\n",
    "            USPSMat.append(imgdata)\n",
    "            USPSTar.append(j)"
   ]
  },
  {
   "cell_type": "markdown",
   "metadata": {},
   "source": [
    "## Functions for Multiclass Logistic Regression"
   ]
  },
  {
   "cell_type": "code",
   "execution_count": 257,
   "metadata": {},
   "outputs": [],
   "source": [
    "def get_activation(X,W):\n",
    "    return np.dot(np.transpose(W),X);\n",
    "def get_model(A):\n",
    "    exp_A = np.exp(A);\n",
    "    #print(exp_A[0]);\n",
    "    #print(np.shape(exp_A));\n",
    "    sum_exp = np.sum(exp_A); \n",
    "    #print(exp_A);\n",
    "    #print(sum_exp);\n",
    "    for i in range(len(exp_A)):\n",
    "        exp_A[i] = exp_A[i]/sum_exp;\n",
    "    #print(exp_A);\n",
    "    #print(sum(exp_A));\n",
    "    return exp_A;\n",
    "def get_hot_target(t,y):\n",
    "    i=0;\n",
    "    for j in t:\n",
    "        a = y[i]\n",
    "        j[a] = j[a] + 1;\n",
    "        i = i+1\n",
    "    return t\n",
    "def get_cross_entropy(X,W,Y):\n",
    "    a = np.dot(X,W);\n",
    "    exp_a = np.exp(a);\n",
    "    sum_ex = 0;\n",
    "    for i in exp_a:\n",
    "        sum_ex = np.sum(i);\n",
    "        for j in range(len(i)):\n",
    "            i[j] = i[j]/sum_ex;\n",
    "        #print(np.sum(i));\n",
    "    #print(np.shape(exp_a));\n",
    "    k=0;\n",
    "    count = 0;\n",
    "    for i in exp_a:\n",
    "        j = np.argmax(i);\n",
    "        if(j == Y[k]):\n",
    "            count = count+1;\n",
    "        k = k+1;\n",
    "        \n",
    "    #Loss = 0\n",
    "    #ln_y = -np.log(exp_a);\n",
    "    #i=0;\n",
    "    #for j in ln_y:\n",
    "    #    x = Y[i];\n",
    "    #    Loss = Loss + j[x];\n",
    "    #    i=i+1;\n",
    "    #print(len(X));\n",
    "    #return (1/len(X))*Loss,float((count*100)/len(X));\n",
    "    return float((count*100)/len(X));\n",
    "    #return 0;"
   ]
  },
  {
   "cell_type": "markdown",
   "metadata": {},
   "source": [
    "## Loading training, validation and testing data for MNIST"
   ]
  },
  {
   "cell_type": "code",
   "execution_count": 258,
   "metadata": {},
   "outputs": [
    {
     "name": "stdout",
     "output_type": "stream",
     "text": [
      "Shapes of MNIST training data: \n",
      "(50000, 784)\n",
      "(50000,)\n",
      "Shapes of MNIST validation data: \n",
      "(10000, 784)\n",
      "(10000,)\n",
      "Shapes of MNIST testing data: \n",
      "(10000, 784)\n",
      "(10000,)\n"
     ]
    }
   ],
   "source": [
    "Mtraining_data = np.array(training_data[0]);\n",
    "Mtraining_target = np.array(training_data[1]);\n",
    "Mvalidation_data = np.array(validation_data[0]);\n",
    "Mvalidation_target = np.array(validation_data[1]);\n",
    "Mtest_data = np.array(test_data[0]);\n",
    "Mtest_target = np.array(test_data[1]);\n",
    "print(\"Shapes of MNIST training data: \");\n",
    "print(np.shape(Mtraining_data));\n",
    "print(np.shape(Mtraining_target));\n",
    "#print(Mtraining_target);\n",
    "print(\"Shapes of MNIST validation data: \");\n",
    "print(np.shape(Mvalidation_data));\n",
    "print(np.shape(Mvalidation_target));\n",
    "print(\"Shapes of MNIST testing data: \");\n",
    "print(np.shape(Mtest_data));\n",
    "print(np.shape(Mtest_target));"
   ]
  },
  {
   "cell_type": "markdown",
   "metadata": {},
   "source": [
    "## Loading training, validation and testing data for USPS"
   ]
  },
  {
   "cell_type": "code",
   "execution_count": 259,
   "metadata": {},
   "outputs": [
    {
     "name": "stdout",
     "output_type": "stream",
     "text": [
      "Shapes of USPS testing data: \n",
      "(19999, 784)\n",
      "(19999,)\n"
     ]
    }
   ],
   "source": [
    "print(\"Shapes of USPS testing data: \");\n",
    "print(np.shape(USPSMat))\n",
    "print(np.shape(USPSTar))"
   ]
  },
  {
   "cell_type": "code",
   "execution_count": 260,
   "metadata": {},
   "outputs": [
    {
     "data": {
      "text/plain": [
       "'\\nWeights = np.random.rand(784,10);\\nt_values = np.zeros((50000,10));\\nt_values = get_hot_target(t_values,Mtraining_target);\\nprint(\"Shape of tvalues :\");\\nprint(np.shape(t_values))\\nActivation = get_activation(Mtraining_data,Weights);\\nprint(\"Shape of Activation :\");\\nprint(np.shape(Activation));\\nModel = get_model(Activation);\\nprint(\"Shape of Model :\");\\nprint(np.shape(Model));\\ncost = get_cross_entropy(Model, Mtraining_target);\\nprint(\"Cross entropy loss:\")\\nprint(cost);\\n'"
      ]
     },
     "execution_count": 260,
     "metadata": {},
     "output_type": "execute_result"
    }
   ],
   "source": [
    "'''\n",
    "Weights = np.random.rand(784,10);\n",
    "t_values = np.zeros((50000,10));\n",
    "t_values = get_hot_target(t_values,Mtraining_target);\n",
    "print(\"Shape of tvalues :\");\n",
    "print(np.shape(t_values))\n",
    "Activation = get_activation(Mtraining_data,Weights);\n",
    "print(\"Shape of Activation :\");\n",
    "print(np.shape(Activation));\n",
    "Model = get_model(Activation);\n",
    "print(\"Shape of Model :\");\n",
    "print(np.shape(Model));\n",
    "cost = get_cross_entropy(Model, Mtraining_target);\n",
    "print(\"Cross entropy loss:\")\n",
    "print(cost);\n",
    "'''"
   ]
  },
  {
   "cell_type": "markdown",
   "metadata": {},
   "source": [
    "## Gradient descent calculation"
   ]
  },
  {
   "cell_type": "code",
   "execution_count": 278,
   "metadata": {},
   "outputs": [
    {
     "name": "stdout",
     "output_type": "stream",
     "text": [
      "Shape of tvalues :\n",
      "(50000, 10)\n"
     ]
    },
    {
     "data": {
      "application/vnd.jupyter.widget-view+json": {
       "model_id": "347aab425c9240cebecafb03b48a66e8",
       "version_major": 2,
       "version_minor": 0
      },
      "text/plain": [
       "HBox(children=(IntProgress(value=0, max=2500), HTML(value='')))"
      ]
     },
     "metadata": {},
     "output_type": "display_data"
    }
   ],
   "source": [
    "Weights = np.random.rand(784,10);\n",
    "t_values = np.zeros((50000,10));\n",
    "La = 2;\n",
    "learning_rate = 0.0012;\n",
    "t_values = get_hot_target(t_values,Mtraining_target);\n",
    "print(\"Shape of tvalues :\");\n",
    "print(np.shape(t_values));\n",
    "L = [];\n",
    "A = [];\n",
    "ite =[];\n",
    "for i in tqdm_notebook(range(0,2500)):\n",
    "    Activation = get_activation(Mtraining_data[i],Weights);\n",
    "    #print(\"Shape of Activation :\");\n",
    "    #print(np.shape(Activation));\n",
    "    Model = get_model(Activation);\n",
    "    #print(\"Shape of Model :\");\n",
    "    #print(np.shape(Model));\n",
    "    #cost = get_cross_entropy(Model, Mtraining_target);\n",
    "    #print(\"Cross entropy loss:\")\n",
    "    #print(cost);\n",
    "    #print(np.shape(np.transpose(Mtraining_data[i])));\n",
    "    x = np.transpose(np.array([Mtraining_data[i]]));\n",
    "    y = np.transpose(np.array([Model-t_values[i]]));\n",
    "    Delta_EW =  np.dot(y,np.transpose(x));\n",
    "    La_Delta_EW  = np.dot(La,Weights);\n",
    "    Delta_E = np.add(Delta_EW, np.transpose(La_Delta_EW));\n",
    "    #print(np.shape(Delta_E));\n",
    "    Delta_W = -np.dot(learning_rate,Delta_E);\n",
    "    #print(Weights);\n",
    "    #print(Delta_EW);\n",
    "    W_next = Weights + np.transpose(Delta_W);\n",
    "    #print(np.shape(W_next));\n",
    "    Weights = W_next;\n",
    "    #print(W_next);\n",
    "    accuracy = get_cross_entropy(Mtraining_data,Weights,Mtraining_target);\n",
    "    #L.append(Loss);\n",
    "    A.append(accuracy);\n",
    "    ite.append(i);\n"
   ]
  },
  {
   "cell_type": "code",
   "execution_count": 281,
   "metadata": {},
   "outputs": [
    {
     "data": {
      "image/png": "[encoded data removed]",
      "text/plain": [
       "<Figure size 432x288 with 1 Axes>"
      ]
     },
     "metadata": {
      "needs_background": "light"
     },
     "output_type": "display_data"
    },
    {
     "name": "stdout",
     "output_type": "stream",
     "text": [
      "65.728\n"
     ]
    }
   ],
   "source": [
    "'''\n",
    "plt.plot(ite, L) \n",
    "plt.xlabel('Iterations') \n",
    "plt.ylabel('cross entropy training Values')   \n",
    "plt.title('cross entropy training vs Iterations') \n",
    "plt.show()\n",
    "'''\n",
    "plt.plot(ite, A) \n",
    "plt.xlabel('Iterations') \n",
    "plt.ylabel('Training accuracy Values')   \n",
    "plt.title('Training accuracy vs Iterations') \n",
    "plt.show()\n",
    "print(A[2499]);"
   ]
  },
  {
   "cell_type": "code",
   "execution_count": null,
   "metadata": {},
   "outputs": [],
   "source": []
  }
 ],
 "metadata": {
  "kernelspec": {
   "display_name": "Python 3",
   "language": "python",
   "name": "python3"
  },
  "language_info": {
   "codemirror_mode": {
    "name": "ipython",
    "version": 3
   },
   "file_extension": ".py",
   "mimetype": "text/x-python",
   "name": "python",
   "nbconvert_exporter": "python",
   "pygments_lexer": "ipython3",
   "version": "3.6.5"
  }
 },
 "nbformat": 4,
 "nbformat_minor": 2
}
